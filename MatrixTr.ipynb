{
  "nbformat": 4,
  "nbformat_minor": 0,
  "metadata": {
    "colab": {
      "provenance": [],
      "authorship_tag": "ABX9TyNXBocf3H0fNV3Pyb2l7Fps",
      "include_colab_link": true
    },
    "kernelspec": {
      "name": "python3",
      "display_name": "Python 3"
    },
    "language_info": {
      "name": "python"
    }
  },
  "cells": [
    {
      "cell_type": "markdown",
      "metadata": {
        "id": "view-in-github",
        "colab_type": "text"
      },
      "source": [
        "<a href=\"https://colab.research.google.com/github/Prabhu-2004-04/Deep-Learning/blob/main/MatrixTr.ipynb\" target=\"_parent\"><img src=\"https://colab.research.google.com/assets/colab-badge.svg\" alt=\"Open In Colab\"/></a>"
      ]
    },
    {
      "cell_type": "code",
      "execution_count": 9,
      "metadata": {
        "colab": {
          "base_uri": "https://localhost:8080/"
        },
        "id": "9Q740dFY5xjA",
        "outputId": "c8adc3ca-1417-4418-ecc5-e76cd062a88e"
      },
      "outputs": [
        {
          "output_type": "stream",
          "name": "stdout",
          "text": [
            "tensor([[1, 2],\n",
            "        [2, 3]])\n",
            "tensor([[14, 42],\n",
            "        [25, 78]])\n"
          ]
        }
      ],
      "source": [
        "import torch\n",
        "import numpy as np\n",
        "x_data=[[1,2],[2,3]]\n",
        "x_data=torch.tensor(x_data)\n",
        "print(x_data)\n",
        "y_data=np.array([[14,42],[25,78]])\n",
        "y_data=torch.from_numpy(y_data)\n",
        "print(y_data)"
      ]
    },
    {
      "cell_type": "code",
      "source": [],
      "metadata": {
        "id": "6iAJMt5w7AlY"
      },
      "execution_count": 9,
      "outputs": []
    },
    {
      "cell_type": "code",
      "metadata": {
        "colab": {
          "base_uri": "https://localhost:8080/"
        },
        "id": "fa4975bf",
        "outputId": "d591592e-64af-4558-fbcf-014a530bf155"
      },
      "source": [
        "\n",
        "z_data = [[1, 2, 3], [4, 5, 6],[3,6,8]]\n",
        "z_data = torch.tensor(z_data)\n",
        "print(z_data)"
      ],
      "execution_count": 12,
      "outputs": [
        {
          "output_type": "stream",
          "name": "stdout",
          "text": [
            "tensor([[1, 2, 3],\n",
            "        [4, 5, 6],\n",
            "        [3, 6, 8]])\n"
          ]
        }
      ]
    },
    {
      "cell_type": "code",
      "source": [],
      "metadata": {
        "id": "cKYpC0ee806e"
      },
      "execution_count": null,
      "outputs": []
    }
  ]
}